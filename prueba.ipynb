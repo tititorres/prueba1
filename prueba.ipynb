print("Calculadora")
print("Operaciones disponibles:")
print("1. Suma")
print("2. Resta")
print("3. Multiplicación")
print("4. División")

choice = input("Ingresa el número de la operación que deseas realizar: ")

num1 = float(input("Ingresa el primer número: "))
num2 = float(input("Ingresa el segundo número: "))
